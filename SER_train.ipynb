{
  "nbformat": 4,
  "nbformat_minor": 0,
  "metadata": {
    "colab": {
      "name": "SER_train.ipynb",
      "provenance": [],
      "collapsed_sections": [],
      "machine_shape": "hm",
      "mount_file_id": "1SdI7iJMHgSNV9XMsUwm3FYyHverk4sw3",
      "authorship_tag": "ABX9TyM1f1DRRDkosCuUo3CPKMIX",
      "include_colab_link": true
    },
    "kernelspec": {
      "name": "python3",
      "display_name": "Python 3"
    }
  },
  "cells": [
    {
      "cell_type": "markdown",
      "metadata": {
        "id": "view-in-github",
        "colab_type": "text"
      },
      "source": [
        "<a href=\"https://colab.research.google.com/github/ValeryNikiforov/Speech-Emotion-Recognition/blob/master/SER_train.ipynb\" target=\"_parent\"><img src=\"https://colab.research.google.com/assets/colab-badge.svg\" alt=\"Open In Colab\"/></a>"
      ]
    },
    {
      "cell_type": "code",
      "metadata": {
        "id": "1QXbhjK9DzCv",
        "colab_type": "code",
        "colab": {}
      },
      "source": [
        "import torch\n",
        "import torch.nn as nn\n",
        "import torch.nn.functional as F\n",
        "from torch.autograd import Variable\n",
        "import torch.utils.data as data\n",
        "import torch.optim as optim\n",
        "import numpy as np\n",
        "import os\n",
        "import scipy\n",
        "import scipy.io.wavfile\n",
        "from scipy.fftpack import dct\n",
        "import matplotlib.pyplot as plt\n",
        "from tqdm import tqdm\n",
        "from IPython.display import Audio\n",
        "from sklearn.model_selection import train_test_split"
      ],
      "execution_count": null,
      "outputs": []
    },
    {
      "cell_type": "code",
      "metadata": {
        "id": "SoklHGZTEvpY",
        "colab_type": "code",
        "colab": {}
      },
      "source": [
        "catalog_name = 'drive/My Drive/toronto_converted/'\n",
        "catalog_name_rav = 'drive/My Drive/ravdess_converted/'\n",
        "catalog_name_sav = 'drive/My Drive/savdee_converted/'"
      ],
      "execution_count": null,
      "outputs": []
    },
    {
      "cell_type": "code",
      "metadata": {
        "id": "0eCWaq6kMD3-",
        "colab_type": "code",
        "colab": {
          "base_uri": "https://localhost:8080/",
          "height": 122
        },
        "outputId": "7ab91c40-a1c4-4956-f9e2-e923d15d6be7"
      },
      "source": [
        "from google.colab import drive\n",
        "drive.mount('/content/drive',force_remount=True)"
      ],
      "execution_count": null,
      "outputs": [
        {
          "output_type": "stream",
          "text": [
            "Go to this URL in a browser: https://accounts.google.com/o/oauth2/auth?client_id=947318989803-6bn6qk8qdgf4n4g3pfee6491hc0brc4i.apps.googleusercontent.com&redirect_uri=urn%3aietf%3awg%3aoauth%3a2.0%3aoob&response_type=code&scope=email%20https%3a%2f%2fwww.googleapis.com%2fauth%2fdocs.test%20https%3a%2f%2fwww.googleapis.com%2fauth%2fdrive%20https%3a%2f%2fwww.googleapis.com%2fauth%2fdrive.photos.readonly%20https%3a%2f%2fwww.googleapis.com%2fauth%2fpeopleapi.readonly\n",
            "\n",
            "Enter your authorization code:\n",
            "··········\n",
            "Mounted at /content/drive\n"
          ],
          "name": "stdout"
        }
      ]
    },
    {
      "cell_type": "code",
      "metadata": {
        "id": "5w5uLhOgRztr",
        "colab_type": "code",
        "colab": {}
      },
      "source": [
        "emotions = {'angry':0, 'disgust':1, 'fear':2, 'happy':3, 'neutral':4, 'ps':5, 'sad':6}\n",
        "#01 = neutral, 02 = calm, 03 = happy, 04 = sad, 05 = angry, 06 = fearful, 07 = disgust, 08 = surprised\n",
        "emotions_ravdess = {'05':0, '07':1, '06':2, '03':3,'01':4, '04':6, '08':5}\n",
        "emotions_savdee = {'a':0, 'd':1, 'f':2, 'h':3, 'n':4, 'su':5,'sa':6}"
      ],
      "execution_count": null,
      "outputs": []
    },
    {
      "cell_type": "code",
      "metadata": {
        "id": "X37CzA8do8Z9",
        "colab_type": "code",
        "colab": {
          "base_uri": "https://localhost:8080/",
          "height": 54
        },
        "outputId": "1e01ae02-2ed0-4ab7-8b03-b3f552b9bb90"
      },
      "source": [
        "'''\n",
        "X_train = np.load(\"drive/My Drive/X_train.npy\")\n",
        "X_test = np.load(\"drive/My Drive/X_test.npy\")\n",
        "y_train = np.load(\"drive/My Drive/y_train.npy\")\n",
        "y_test = np.load(\"drive/My Drive/y_test.npy\")\n",
        "'''"
      ],
      "execution_count": null,
      "outputs": [
        {
          "output_type": "execute_result",
          "data": {
            "text/plain": [
              "'\\nX_train = np.load(\"drive/My Drive/X_train.npy\")\\nX_test = np.load(\"drive/My Drive/X_test.npy\")\\ny_train = np.load(\"drive/My Drive/y_train.npy\")\\ny_test = np.load(\"drive/My Drive/y_test.npy\")\\n'"
            ]
          },
          "metadata": {
            "tags": []
          },
          "execution_count": 5
        }
      ]
    },
    {
      "cell_type": "code",
      "metadata": {
        "id": "rd-vrJ-dzkNP",
        "colab_type": "code",
        "colab": {
          "base_uri": "https://localhost:8080/",
          "height": 34
        },
        "outputId": "688cbc3c-c6ae-49af-f30c-71859ced0219"
      },
      "source": [
        "X_raw_data = np.load(\"drive/My Drive/X_raw_data.npy\")\n",
        "y = np.load(\"drive/My Drive/y.npy\")"
      ],
      "execution_count": null,
      "outputs": [
        {
          "output_type": "stream",
          "text": [
            "(4528, 23879)\n"
          ],
          "name": "stdout"
        }
      ]
    },
    {
      "cell_type": "code",
      "metadata": {
        "id": "JQy0SxaMDC7w",
        "colab_type": "code",
        "colab": {}
      },
      "source": [
        "import random\n",
        "def freq_mask(spec, F=15, num_masks=2, replace_with_zero=False):\n",
        "    cloned = spec.copy()\n",
        "    num_mel_channels = np.shape(cloned)[0]\n",
        "    \n",
        "    for i in range(0, num_masks):        \n",
        "        f =  random.randrange(1, F)\n",
        "        f_zero =  random.randrange(1, num_mel_channels - f)\n",
        "\n",
        "        # avoids randrange error if values are equal and range is empty\n",
        "        if (f_zero == f_zero + f): return cloned\n",
        "\n",
        "        mask_end =  random.randrange(f_zero, f_zero + f) \n",
        "        if (replace_with_zero):\n",
        "          cloned[f_zero:mask_end] = np.random.uniform(0,10,np.shape(cloned[f_zero:mask_end])) \n",
        "          #cloned[f_zero:mask_end] = 0\n",
        "        else: \n",
        "          cloned[f_zero:mask_end] = cloned.mean()\n",
        "    \n",
        "    return cloned"
      ],
      "execution_count": null,
      "outputs": []
    },
    {
      "cell_type": "code",
      "metadata": {
        "id": "3C1tYT4Vn5cD",
        "colab_type": "code",
        "colab": {}
      },
      "source": [
        "def time_mask(spec, T=10, num_masks=1, replace_with_zero=False):\n",
        "    cloned = spec.copy()\n",
        "    len_spectro = np.shape(cloned)[1]\n",
        "    \n",
        "    for i in range(0, num_masks):\n",
        "        t =  random.randrange(1, T)\n",
        "        t_zero =  random.randrange(1, len_spectro - t)\n",
        "\n",
        "        # avoids randrange error if values are equal and range is empty\n",
        "        if (t_zero == t_zero + t): return cloned\n",
        "\n",
        "        mask_end =  random.randrange(t_zero, t_zero + t)\n",
        "        if (replace_with_zero):\n",
        "          cloned[:,t_zero:mask_end] = np.random.uniform(0,25,np.shape(cloned[:,t_zero:mask_end]))  \n",
        "          #cloned[:,t_zero:mask_end] = 0\n",
        "        else: \n",
        "          cloned[:,t_zero:mask_end] = cloned.mean()\n",
        "    return cloned"
      ],
      "execution_count": null,
      "outputs": []
    },
    {
      "cell_type": "code",
      "metadata": {
        "id": "vbYGslcSBiuh",
        "colab_type": "code",
        "colab": {}
      },
      "source": [
        "def specaug(X,y):\n",
        "  X_aug = np.copy(X)\n",
        "  for i in range(0,np.shape(X)[0]):\n",
        "    X_aug[i] = freq_mask(X[i])\n",
        "    X_aug[i] = time_mask(X_aug[i])\n",
        "  X = np.append(X,X_aug,axis=0)\n",
        "  y = np.append(y,y,axis=0)\n",
        "  del X_aug\n",
        "  return X,y"
      ],
      "execution_count": null,
      "outputs": []
    },
    {
      "cell_type": "code",
      "metadata": {
        "colab_type": "code",
        "id": "taTOiDA2MwRx",
        "colab": {}
      },
      "source": [
        "first_fragment_size = 297\n",
        "sec_fragment_size = 200\n",
        "def filterbanks(X_raw_data):\n",
        "  frame_size = 0.025\n",
        "  frame_stride = 0.01\n",
        "  sample_rate = 8000\n",
        "  num = np.shape(X_raw_data)[0]\n",
        "  frame_length, frame_step = frame_size * sample_rate, frame_stride * sample_rate  \n",
        "  X_frames = np.zeros((num,first_fragment_size,sec_fragment_size))\n",
        "  for i in tqdm(range(len(X_raw_data))):\n",
        "    signal_length = len(X_raw_data[i])\n",
        "    frame_length = int(round(frame_length))\n",
        "    frame_step = int(round(frame_step))\n",
        " \n",
        "    num_frames = 1+int(np.ceil(float(signal_length - frame_length) / frame_step)) \n",
        "    pad_signal_length = int((num_frames-1) * frame_step + frame_length)\n",
        "    z = np.zeros((pad_signal_length - signal_length))\n",
        "    pad_signal = np.append(X_raw_data[i], z) \n",
        "\n",
        "    for j in range(len( X_frames[i])):\n",
        "      X_frames[i,j] *= np.hamming(frame_length)\n",
        "  \n",
        "    indices = np.tile(np.arange(0, frame_length), (num_frames, 1)) + np.tile(np.arange(0, num_frames * frame_step, frame_step), (frame_length, 1)).T\n",
        "    X_frames[i] = pad_signal[indices.astype(np.int32, copy=False)]\n",
        "  del z, pad_signal, X_raw_data\n",
        "  NFFT = 512\n",
        "  pow_frames = np.zeros((num,first_fragment_size,257))\n",
        "  for i in tqdm(range(len(X_frames))):\n",
        "    pow_frames[i] = ((1.0 / NFFT) * (np.square(np.absolute(np.fft.rfft(X_frames[i], NFFT)))))\n",
        "  del X_frames\n",
        "\n",
        "  nfilt = 26\n",
        "  low_freq_mel = 0\n",
        "  high_freq_mel = (2595 * np.log10(1 + (sample_rate / 2) / 700.)) \n",
        "  mel_points = np.linspace(low_freq_mel, high_freq_mel, nfilt + 2)  \n",
        "  hz_points = (700 * (10**(mel_points / 2595.0) - 1)) \n",
        "  bin = np.floor((NFFT + 1) * hz_points / sample_rate)\n",
        "\n",
        "  fbanks = np.zeros([nfilt,NFFT // 2 + 1])\n",
        "  for j in range(0, nfilt):\n",
        "  \n",
        "    for i in range(int(bin[j]), int(bin[j+1])):\n",
        "            fbanks[j,i] = (i - bin[j]) / (bin[j+1]-bin[j])\n",
        "    for i in range(int(bin[j+1]), int(bin[j+2])):\n",
        "            fbanks[j,i] = (bin[j+2]-i) / (bin[j+2]-bin[j+1])\n",
        "        \n",
        "  print(np.shape(fbanks))        \n",
        "  filter_banks = np.zeros((num,first_fragment_size,26))   \n",
        "  energy = np.zeros((num,first_fragment_size))\n",
        "  for i in tqdm(range(num)):\n",
        "    filter_banks[i]= np.dot(pow_frames[i], fbanks.T)\n",
        "    filter_banks[i] = np.where(filter_banks[i] == 0, np.finfo(float).eps, filter_banks[i])  \n",
        "    energy[i] = np.sum(pow_frames[i],1) \n",
        "    energy[i] = np.where(energy[i] == 0,np.finfo(float).eps,energy[i])\n",
        "  del pow_frames\n",
        "  plt.imshow(filter_banks[300])\n",
        "  return filter_banks, energy"
      ],
      "execution_count": null,
      "outputs": []
    },
    {
      "cell_type": "code",
      "metadata": {
        "id": "bUr2QycwCalY",
        "colab_type": "code",
        "colab": {}
      },
      "source": [
        "def mfcc(filter_banks, energy):\n",
        "  num_ceps = 26\n",
        "  mfcc_old = np.zeros((np.shape(filter_banks)[0], first_fragment_size, 26))\n",
        "  _, nframes,ncoeff = np.shape(mfcc_old)\n",
        "  n = np.arange(ncoeff)\n",
        "  lift = 1 + (22/2.)*np.sin(np.pi*n/22)\n",
        "  for i in range(np.shape(filter_banks)[0]):\n",
        "    filter_banks[i]= np.log(filter_banks[i])\n",
        "    mfcc_old[i] = dct(filter_banks[i], type=2, axis=1, norm='ortho')[:, : num_ceps]\n",
        "    mfcc_old[i] = lift * mfcc_old[i]\n",
        "    mfcc_old[i,:,0] = np.log(energy[i])\n",
        "  plt.imshow(mfcc_old[300,:200,:].T)\n",
        "  return  mfcc_old"
      ],
      "execution_count": null,
      "outputs": []
    },
    {
      "cell_type": "code",
      "metadata": {
        "id": "wRHvfhmLUpPR",
        "colab_type": "code",
        "colab": {
          "base_uri": "https://localhost:8080/",
          "height": 513
        },
        "outputId": "29362bc8-a144-4968-ae53-f33b24dea239"
      },
      "source": [
        "!pip install librosa==0.7.2 \n",
        "import librosa\n",
        "import librosa.display\n",
        "def melspec(X_raw_data):\n",
        "  X = np.ndarray((np.shape(X_raw_data)[0],128,47))\n",
        "  for i in range(np.shape(X_raw_data)[0]):\n",
        "    X[i] = librosa.feature.melspectrogram(X_raw_data[i], win_length=1024)\n",
        "  X = np.where(X == 0, np.finfo(float).eps, X)\n",
        "  X = 20*np.log10(X)  # dB\n",
        "  return X"
      ],
      "execution_count": null,
      "outputs": [
        {
          "output_type": "stream",
          "text": [
            "Collecting librosa==0.7.2\n",
            "\u001b[?25l  Downloading https://files.pythonhosted.org/packages/77/b5/1817862d64a7c231afd15419d8418ae1f000742cac275e85c74b219cbccb/librosa-0.7.2.tar.gz (1.6MB)\n",
            "\r\u001b[K     |▏                               | 10kB 18.9MB/s eta 0:00:01\r\u001b[K     |▍                               | 20kB 1.8MB/s eta 0:00:01\r\u001b[K     |▋                               | 30kB 2.3MB/s eta 0:00:01\r\u001b[K     |▉                               | 40kB 2.6MB/s eta 0:00:01\r\u001b[K     |█                               | 51kB 2.0MB/s eta 0:00:01\r\u001b[K     |█▎                              | 61kB 2.3MB/s eta 0:00:01\r\u001b[K     |█▍                              | 71kB 2.5MB/s eta 0:00:01\r\u001b[K     |█▋                              | 81kB 2.8MB/s eta 0:00:01\r\u001b[K     |█▉                              | 92kB 3.0MB/s eta 0:00:01\r\u001b[K     |██                              | 102kB 2.8MB/s eta 0:00:01\r\u001b[K     |██▎                             | 112kB 2.8MB/s eta 0:00:01\r\u001b[K     |██▌                             | 122kB 2.8MB/s eta 0:00:01\r\u001b[K     |██▊                             | 133kB 2.8MB/s eta 0:00:01\r\u001b[K     |██▉                             | 143kB 2.8MB/s eta 0:00:01\r\u001b[K     |███                             | 153kB 2.8MB/s eta 0:00:01\r\u001b[K     |███▎                            | 163kB 2.8MB/s eta 0:00:01\r\u001b[K     |███▌                            | 174kB 2.8MB/s eta 0:00:01\r\u001b[K     |███▊                            | 184kB 2.8MB/s eta 0:00:01\r\u001b[K     |████                            | 194kB 2.8MB/s eta 0:00:01\r\u001b[K     |████                            | 204kB 2.8MB/s eta 0:00:01\r\u001b[K     |████▎                           | 215kB 2.8MB/s eta 0:00:01\r\u001b[K     |████▌                           | 225kB 2.8MB/s eta 0:00:01\r\u001b[K     |████▊                           | 235kB 2.8MB/s eta 0:00:01\r\u001b[K     |█████                           | 245kB 2.8MB/s eta 0:00:01\r\u001b[K     |█████▏                          | 256kB 2.8MB/s eta 0:00:01\r\u001b[K     |█████▍                          | 266kB 2.8MB/s eta 0:00:01\r\u001b[K     |█████▌                          | 276kB 2.8MB/s eta 0:00:01\r\u001b[K     |█████▊                          | 286kB 2.8MB/s eta 0:00:01\r\u001b[K     |██████                          | 296kB 2.8MB/s eta 0:00:01\r\u001b[K     |██████▏                         | 307kB 2.8MB/s eta 0:00:01\r\u001b[K     |██████▍                         | 317kB 2.8MB/s eta 0:00:01\r\u001b[K     |██████▋                         | 327kB 2.8MB/s eta 0:00:01\r\u001b[K     |██████▊                         | 337kB 2.8MB/s eta 0:00:01\r\u001b[K     |███████                         | 348kB 2.8MB/s eta 0:00:01\r\u001b[K     |███████▏                        | 358kB 2.8MB/s eta 0:00:01\r\u001b[K     |███████▍                        | 368kB 2.8MB/s eta 0:00:01\r\u001b[K     |███████▋                        | 378kB 2.8MB/s eta 0:00:01\r\u001b[K     |███████▉                        | 389kB 2.8MB/s eta 0:00:01\r\u001b[K     |████████                        | 399kB 2.8MB/s eta 0:00:01\r\u001b[K     |████████▏                       | 409kB 2.8MB/s eta 0:00:01\r\u001b[K     |████████▍                       | 419kB 2.8MB/s eta 0:00:01\r\u001b[K     |████████▋                       | 430kB 2.8MB/s eta 0:00:01\r\u001b[K     |████████▉                       | 440kB 2.8MB/s eta 0:00:01\r\u001b[K     |█████████                       | 450kB 2.8MB/s eta 0:00:01\r\u001b[K     |█████████▎                      | 460kB 2.8MB/s eta 0:00:01\r\u001b[K     |█████████▍                      | 471kB 2.8MB/s eta 0:00:01\r\u001b[K     |█████████▋                      | 481kB 2.8MB/s eta 0:00:01\r\u001b[K     |█████████▉                      | 491kB 2.8MB/s eta 0:00:01\r\u001b[K     |██████████                      | 501kB 2.8MB/s eta 0:00:01\r\u001b[K     |██████████▎                     | 512kB 2.8MB/s eta 0:00:01\r\u001b[K     |██████████▌                     | 522kB 2.8MB/s eta 0:00:01\r\u001b[K     |██████████▊                     | 532kB 2.8MB/s eta 0:00:01\r\u001b[K     |██████████▉                     | 542kB 2.8MB/s eta 0:00:01\r\u001b[K     |███████████                     | 552kB 2.8MB/s eta 0:00:01\r\u001b[K     |███████████▎                    | 563kB 2.8MB/s eta 0:00:01\r\u001b[K     |███████████▌                    | 573kB 2.8MB/s eta 0:00:01\r\u001b[K     |███████████▊                    | 583kB 2.8MB/s eta 0:00:01\r\u001b[K     |████████████                    | 593kB 2.8MB/s eta 0:00:01\r\u001b[K     |████████████▏                   | 604kB 2.8MB/s eta 0:00:01\r\u001b[K     |████████████▎                   | 614kB 2.8MB/s eta 0:00:01\r\u001b[K     |████████████▌                   | 624kB 2.8MB/s eta 0:00:01\r\u001b[K     |████████████▊                   | 634kB 2.8MB/s eta 0:00:01\r\u001b[K     |█████████████                   | 645kB 2.8MB/s eta 0:00:01\r\u001b[K     |█████████████▏                  | 655kB 2.8MB/s eta 0:00:01\r\u001b[K     |█████████████▍                  | 665kB 2.8MB/s eta 0:00:01\r\u001b[K     |█████████████▌                  | 675kB 2.8MB/s eta 0:00:01\r\u001b[K     |█████████████▊                  | 686kB 2.8MB/s eta 0:00:01\r\u001b[K     |██████████████                  | 696kB 2.8MB/s eta 0:00:01\r\u001b[K     |██████████████▏                 | 706kB 2.8MB/s eta 0:00:01\r\u001b[K     |██████████████▍                 | 716kB 2.8MB/s eta 0:00:01\r\u001b[K     |██████████████▋                 | 727kB 2.8MB/s eta 0:00:01\r\u001b[K     |██████████████▉                 | 737kB 2.8MB/s eta 0:00:01\r\u001b[K     |███████████████                 | 747kB 2.8MB/s eta 0:00:01\r\u001b[K     |███████████████▏                | 757kB 2.8MB/s eta 0:00:01\r\u001b[K     |███████████████▍                | 768kB 2.8MB/s eta 0:00:01\r\u001b[K     |███████████████▋                | 778kB 2.8MB/s eta 0:00:01\r\u001b[K     |███████████████▉                | 788kB 2.8MB/s eta 0:00:01\r\u001b[K     |████████████████                | 798kB 2.8MB/s eta 0:00:01\r\u001b[K     |████████████████▏               | 808kB 2.8MB/s eta 0:00:01\r\u001b[K     |████████████████▍               | 819kB 2.8MB/s eta 0:00:01\r\u001b[K     |████████████████▋               | 829kB 2.8MB/s eta 0:00:01\r\u001b[K     |████████████████▉               | 839kB 2.8MB/s eta 0:00:01\r\u001b[K     |█████████████████               | 849kB 2.8MB/s eta 0:00:01\r\u001b[K     |█████████████████▎              | 860kB 2.8MB/s eta 0:00:01\r\u001b[K     |█████████████████▌              | 870kB 2.8MB/s eta 0:00:01\r\u001b[K     |█████████████████▋              | 880kB 2.8MB/s eta 0:00:01\r\u001b[K     |█████████████████▉              | 890kB 2.8MB/s eta 0:00:01\r\u001b[K     |██████████████████              | 901kB 2.8MB/s eta 0:00:01\r\u001b[K     |██████████████████▎             | 911kB 2.8MB/s eta 0:00:01\r\u001b[K     |██████████████████▌             | 921kB 2.8MB/s eta 0:00:01\r\u001b[K     |██████████████████▊             | 931kB 2.8MB/s eta 0:00:01\r\u001b[K     |██████████████████▉             | 942kB 2.8MB/s eta 0:00:01\r\u001b[K     |███████████████████             | 952kB 2.8MB/s eta 0:00:01\r\u001b[K     |███████████████████▎            | 962kB 2.8MB/s eta 0:00:01\r\u001b[K     |███████████████████▌            | 972kB 2.8MB/s eta 0:00:01\r\u001b[K     |███████████████████▊            | 983kB 2.8MB/s eta 0:00:01\r\u001b[K     |████████████████████            | 993kB 2.8MB/s eta 0:00:01\r\u001b[K     |████████████████████▏           | 1.0MB 2.8MB/s eta 0:00:01\r\u001b[K     |████████████████████▎           | 1.0MB 2.8MB/s eta 0:00:01\r\u001b[K     |████████████████████▌           | 1.0MB 2.8MB/s eta 0:00:01\r\u001b[K     |████████████████████▊           | 1.0MB 2.8MB/s eta 0:00:01\r\u001b[K     |█████████████████████           | 1.0MB 2.8MB/s eta 0:00:01\r\u001b[K     |█████████████████████▏          | 1.1MB 2.8MB/s eta 0:00:01\r\u001b[K     |█████████████████████▍          | 1.1MB 2.8MB/s eta 0:00:01\r\u001b[K     |█████████████████████▋          | 1.1MB 2.8MB/s eta 0:00:01\r\u001b[K     |█████████████████████▊          | 1.1MB 2.8MB/s eta 0:00:01\r\u001b[K     |██████████████████████          | 1.1MB 2.8MB/s eta 0:00:01\r\u001b[K     |██████████████████████▏         | 1.1MB 2.8MB/s eta 0:00:01\r\u001b[K     |██████████████████████▍         | 1.1MB 2.8MB/s eta 0:00:01\r\u001b[K     |██████████████████████▋         | 1.1MB 2.8MB/s eta 0:00:01\r\u001b[K     |██████████████████████▉         | 1.1MB 2.8MB/s eta 0:00:01\r\u001b[K     |███████████████████████         | 1.1MB 2.8MB/s eta 0:00:01\r\u001b[K     |███████████████████████▏        | 1.2MB 2.8MB/s eta 0:00:01\r\u001b[K     |███████████████████████▍        | 1.2MB 2.8MB/s eta 0:00:01\r\u001b[K     |███████████████████████▋        | 1.2MB 2.8MB/s eta 0:00:01\r\u001b[K     |███████████████████████▉        | 1.2MB 2.8MB/s eta 0:00:01\r\u001b[K     |████████████████████████        | 1.2MB 2.8MB/s eta 0:00:01\r\u001b[K     |████████████████████████▎       | 1.2MB 2.8MB/s eta 0:00:01\r\u001b[K     |████████████████████████▍       | 1.2MB 2.8MB/s eta 0:00:01\r\u001b[K     |████████████████████████▋       | 1.2MB 2.8MB/s eta 0:00:01\r\u001b[K     |████████████████████████▉       | 1.2MB 2.8MB/s eta 0:00:01\r\u001b[K     |█████████████████████████       | 1.2MB 2.8MB/s eta 0:00:01\r\u001b[K     |█████████████████████████▎      | 1.3MB 2.8MB/s eta 0:00:01\r\u001b[K     |█████████████████████████▌      | 1.3MB 2.8MB/s eta 0:00:01\r\u001b[K     |█████████████████████████▋      | 1.3MB 2.8MB/s eta 0:00:01\r\u001b[K     |█████████████████████████▉      | 1.3MB 2.8MB/s eta 0:00:01\r\u001b[K     |██████████████████████████      | 1.3MB 2.8MB/s eta 0:00:01\r\u001b[K     |██████████████████████████▎     | 1.3MB 2.8MB/s eta 0:00:01\r\u001b[K     |██████████████████████████▌     | 1.3MB 2.8MB/s eta 0:00:01\r\u001b[K     |██████████████████████████▊     | 1.3MB 2.8MB/s eta 0:00:01\r\u001b[K     |███████████████████████████     | 1.3MB 2.8MB/s eta 0:00:01\r\u001b[K     |███████████████████████████     | 1.4MB 2.8MB/s eta 0:00:01\r\u001b[K     |███████████████████████████▎    | 1.4MB 2.8MB/s eta 0:00:01\r\u001b[K     |███████████████████████████▌    | 1.4MB 2.8MB/s eta 0:00:01\r\u001b[K     |███████████████████████████▊    | 1.4MB 2.8MB/s eta 0:00:01\r\u001b[K     |████████████████████████████    | 1.4MB 2.8MB/s eta 0:00:01\r\u001b[K     |████████████████████████████▏   | 1.4MB 2.8MB/s eta 0:00:01\r\u001b[K     |████████████████████████████▎   | 1.4MB 2.8MB/s eta 0:00:01\r\u001b[K     |████████████████████████████▌   | 1.4MB 2.8MB/s eta 0:00:01\r\u001b[K     |████████████████████████████▊   | 1.4MB 2.8MB/s eta 0:00:01\r\u001b[K     |█████████████████████████████   | 1.4MB 2.8MB/s eta 0:00:01\r\u001b[K     |█████████████████████████████▏  | 1.5MB 2.8MB/s eta 0:00:01\r\u001b[K     |█████████████████████████████▍  | 1.5MB 2.8MB/s eta 0:00:01\r\u001b[K     |█████████████████████████████▋  | 1.5MB 2.8MB/s eta 0:00:01\r\u001b[K     |█████████████████████████████▊  | 1.5MB 2.8MB/s eta 0:00:01\r\u001b[K     |██████████████████████████████  | 1.5MB 2.8MB/s eta 0:00:01\r\u001b[K     |██████████████████████████████▏ | 1.5MB 2.8MB/s eta 0:00:01\r\u001b[K     |██████████████████████████████▍ | 1.5MB 2.8MB/s eta 0:00:01\r\u001b[K     |██████████████████████████████▋ | 1.5MB 2.8MB/s eta 0:00:01\r\u001b[K     |██████████████████████████████▉ | 1.5MB 2.8MB/s eta 0:00:01\r\u001b[K     |███████████████████████████████ | 1.5MB 2.8MB/s eta 0:00:01\r\u001b[K     |███████████████████████████████▏| 1.6MB 2.8MB/s eta 0:00:01\r\u001b[K     |███████████████████████████████▍| 1.6MB 2.8MB/s eta 0:00:01\r\u001b[K     |███████████████████████████████▋| 1.6MB 2.8MB/s eta 0:00:01\r\u001b[K     |███████████████████████████████▉| 1.6MB 2.8MB/s eta 0:00:01\r\u001b[K     |████████████████████████████████| 1.6MB 2.8MB/s \n",
            "\u001b[?25hRequirement already satisfied: audioread>=2.0.0 in /usr/local/lib/python3.6/dist-packages (from librosa==0.7.2) (2.1.8)\n",
            "Requirement already satisfied: numpy>=1.15.0 in /usr/local/lib/python3.6/dist-packages (from librosa==0.7.2) (1.18.5)\n",
            "Requirement already satisfied: scipy>=1.0.0 in /usr/local/lib/python3.6/dist-packages (from librosa==0.7.2) (1.4.1)\n",
            "Requirement already satisfied: scikit-learn!=0.19.0,>=0.14.0 in /usr/local/lib/python3.6/dist-packages (from librosa==0.7.2) (0.22.2.post1)\n",
            "Requirement already satisfied: joblib>=0.12 in /usr/local/lib/python3.6/dist-packages (from librosa==0.7.2) (0.15.1)\n",
            "Requirement already satisfied: decorator>=3.0.0 in /usr/local/lib/python3.6/dist-packages (from librosa==0.7.2) (4.4.2)\n",
            "Requirement already satisfied: six>=1.3 in /usr/local/lib/python3.6/dist-packages (from librosa==0.7.2) (1.12.0)\n",
            "Requirement already satisfied: resampy>=0.2.2 in /usr/local/lib/python3.6/dist-packages (from librosa==0.7.2) (0.2.2)\n",
            "Requirement already satisfied: numba>=0.43.0 in /usr/local/lib/python3.6/dist-packages (from librosa==0.7.2) (0.48.0)\n",
            "Collecting soundfile>=0.9.0\n",
            "  Downloading https://files.pythonhosted.org/packages/eb/f2/3cbbbf3b96fb9fa91582c438b574cff3f45b29c772f94c400e2c99ef5db9/SoundFile-0.10.3.post1-py2.py3-none-any.whl\n",
            "Requirement already satisfied: llvmlite<0.32.0,>=0.31.0dev0 in /usr/local/lib/python3.6/dist-packages (from numba>=0.43.0->librosa==0.7.2) (0.31.0)\n",
            "Requirement already satisfied: setuptools in /usr/local/lib/python3.6/dist-packages (from numba>=0.43.0->librosa==0.7.2) (47.3.1)\n",
            "Requirement already satisfied: cffi>=1.0 in /usr/local/lib/python3.6/dist-packages (from soundfile>=0.9.0->librosa==0.7.2) (1.14.0)\n",
            "Requirement already satisfied: pycparser in /usr/local/lib/python3.6/dist-packages (from cffi>=1.0->soundfile>=0.9.0->librosa==0.7.2) (2.20)\n",
            "Building wheels for collected packages: librosa\n",
            "  Building wheel for librosa (setup.py) ... \u001b[?25l\u001b[?25hdone\n",
            "  Created wheel for librosa: filename=librosa-0.7.2-cp36-none-any.whl size=1612885 sha256=6a9416501b3bd336f9c2cb0b1171fb46a6de1e4d4128d06ea7fe9e13a6ed2772\n",
            "  Stored in directory: /root/.cache/pip/wheels/4c/6e/d7/bb93911540d2d1e44d690a1561871e5b6af82b69e80938abef\n",
            "Successfully built librosa\n",
            "Installing collected packages: soundfile, librosa\n",
            "  Found existing installation: librosa 0.6.3\n",
            "    Uninstalling librosa-0.6.3:\n",
            "      Successfully uninstalled librosa-0.6.3\n",
            "Successfully installed librosa-0.7.2 soundfile-0.10.3.post1\n"
          ],
          "name": "stdout"
        }
      ]
    },
    {
      "cell_type": "code",
      "metadata": {
        "id": "KNdYvLNlEi_d",
        "colab_type": "code",
        "colab": {}
      },
      "source": [
        "'''\n",
        "X_train = X_raw_data[120:]\n",
        "y_train = y[120:]\n",
        "X_test = X_raw_data[:120]\n",
        "y_test = y[:120]\n",
        "'''\n",
        "X_raw_data_pitched = np.load(\"drive/My Drive/X_raw_data_pitched.npy\")\n",
        "y_pitched = np.load(\"drive/My Drive/y_pitched.npy\")\n",
        "X_train, X_test, y_train, y_test = train_test_split(X_raw_data,y, test_size=0.2)\n",
        "X_train = np.append(X_train,X_raw_data_pitched[120:],axis=0)\n",
        "y_train = np.append(y_train,y_pitched[120:],axis=0)"
      ],
      "execution_count": null,
      "outputs": []
    },
    {
      "cell_type": "code",
      "metadata": {
        "id": "t5JEfpLheh8p",
        "colab_type": "code",
        "colab": {
          "base_uri": "https://localhost:8080/",
          "height": 333
        },
        "outputId": "e60de5f9-bc8e-4da7-9ad8-69615c7a9c61"
      },
      "source": [
        "\n",
        "X_train, energy1 = filterbanks(X_train)\n",
        "X_test, energy2 = filterbanks(X_test)\n",
        "\n",
        "X_train = mfcc(X_train, energy1)\n",
        "X_test = mfcc(X_test, energy2)\n",
        "'''\n",
        "X_train = melspec(X_train)\n",
        "X_test = melspec(X_test)\n",
        "'''"
      ],
      "execution_count": null,
      "outputs": [
        {
          "output_type": "stream",
          "text": [
            "100%|██████████| 8030/8030 [00:39<00:00, 202.47it/s]\n",
            "100%|██████████| 8030/8030 [00:23<00:00, 337.36it/s]\n",
            "  4%|▍         | 313/8030 [00:00<00:02, 3122.57it/s]"
          ],
          "name": "stderr"
        },
        {
          "output_type": "stream",
          "text": [
            "(26, 257)\n"
          ],
          "name": "stdout"
        },
        {
          "output_type": "stream",
          "text": [
            "100%|██████████| 8030/8030 [00:02<00:00, 3274.59it/s]\n",
            "  2%|▏         | 21/906 [00:00<00:04, 206.40it/s]"
          ],
          "name": "stderr"
        },
        {
          "output_type": "stream",
          "text": [
            "(8030, 297, 26)\n"
          ],
          "name": "stdout"
        },
        {
          "output_type": "stream",
          "text": [
            "100%|██████████| 906/906 [00:04<00:00, 202.56it/s]\n",
            "100%|██████████| 906/906 [00:02<00:00, 346.66it/s]\n",
            " 38%|███▊      | 347/906 [00:00<00:00, 3460.85it/s]"
          ],
          "name": "stderr"
        },
        {
          "output_type": "stream",
          "text": [
            "(26, 257)\n"
          ],
          "name": "stdout"
        },
        {
          "output_type": "stream",
          "text": [
            "100%|██████████| 906/906 [00:00<00:00, 3278.61it/s]\n"
          ],
          "name": "stderr"
        },
        {
          "output_type": "stream",
          "text": [
            "(906, 297, 26)\n",
            "(8030, 297, 26)\n",
            "(906, 297, 26)\n",
            "(297, 26)\n",
            "(8030, 297, 26)\n"
          ],
          "name": "stdout"
        },
        {
          "output_type": "display_data",
          "data": {
            "image/png": "[encoded data removed]",
            "text/plain": [
              "<Figure size 432x288 with 1 Axes>"
            ]
          },
          "metadata": {
            "tags": [],
            "needs_background": "light"
          }
        }
      ]
    },
    {
      "cell_type": "code",
      "metadata": {
        "id": "IoHgUSYGbDA6",
        "colab_type": "code",
        "colab": {
          "base_uri": "https://localhost:8080/",
          "height": 286
        },
        "outputId": "92695757-2364-457c-8f62-2f5b41efabda"
      },
      "source": [
        "plt.imshow(X_train[1])"
      ],
      "execution_count": null,
      "outputs": [
        {
          "output_type": "execute_result",
          "data": {
            "text/plain": [
              "<matplotlib.image.AxesImage at 0x7f4412ff4438>"
            ]
          },
          "metadata": {
            "tags": []
          },
          "execution_count": 17
        },
        {
          "output_type": "display_data",
          "data": {
            "image/png": "[encoded data removed]",
            "text/plain": [
              "<Figure size 432x288 with 1 Axes>"
            ]
          },
          "metadata": {
            "tags": [],
            "needs_background": "light"
          }
        }
      ]
    },
    {
      "cell_type": "code",
      "metadata": {
        "colab_type": "code",
        "id": "BMPS2rqRRip-",
        "colab": {
          "base_uri": "https://localhost:8080/",
          "height": 34
        },
        "outputId": "4150d98a-0414-4efe-85d2-6c6a16d416e4"
      },
      "source": [
        "y_test = np.array(y_test)\n",
        "y_train = np.expand_dims(y_train, axis=1)\n",
        "y_test = np.expand_dims(y_test, axis=1)\n",
        "print(np.shape(X_train), np.shape(y_train), np.shape(X_test), np.shape(y_test))"
      ],
      "execution_count": null,
      "outputs": [
        {
          "output_type": "stream",
          "text": [
            "(8030, 297, 26) (8030, 1) (906, 297, 26) (906, 1)\n"
          ],
          "name": "stdout"
        }
      ]
    },
    {
      "cell_type": "code",
      "metadata": {
        "id": "HJaMuxFtEFo2",
        "colab_type": "code",
        "colab": {}
      },
      "source": [
        "class my_data_train():\n",
        "    def __init__(self,X,Y):\n",
        "        self.data = X\n",
        "        self.target = Y \n",
        "        self.n_samples = self.data.shape[0]\n",
        "    \n",
        "    def __len__(self):  \n",
        "        return self.n_samples\n",
        "    \n",
        "    def __getitem__(self,index): \n",
        "        rev = np.random.randint(9, size=1)\n",
        "        if rev[0] > 4:\n",
        "          return torch.Tensor(self.data[index]), torch.Tensor(self.target[index])\n",
        "        else:\n",
        "          cpy = self.data[index]\n",
        "          cpy = time_mask(cpy)\n",
        "          cpy = freq_mask(cpy)\n",
        "          return torch.Tensor(cpy), torch.Tensor(self.target[index])\n",
        "\n",
        "class my_data():\n",
        "    def __init__(self,X,Y):\n",
        "        self.data = X  \n",
        "        self.target = Y \n",
        "        self.n_samples = self.data.shape[0]\n",
        "    \n",
        "    def __len__(self):  \n",
        "        return self.n_samples\n",
        "    \n",
        "    def __getitem__(self,index): \n",
        "        return torch.Tensor(self.data[index]), torch.Tensor(self.target[index])\n",
        "\n",
        "batch=1000\n",
        "dat = my_data_train(X_train,y_train)\n",
        "train_loader = data.DataLoader(dat,batch)\n",
        "dat = my_data(X_test,y_test)\n",
        "test_loader = data.DataLoader(dat,batch)"
      ],
      "execution_count": null,
      "outputs": []
    },
    {
      "cell_type": "code",
      "metadata": {
        "colab_type": "code",
        "id": "hoxBWUQSKUs_",
        "colab": {}
      },
      "source": [
        "class NeuralNet(nn.Module):\n",
        "    def __init__(self):\n",
        "        super(NeuralNet, self).__init__()\n",
        "        \n",
        "        self.input_spec_size=26\n",
        "        self.cnn_filter_size=128\n",
        "        self.num_layers_lstm=2\n",
        "        self.num_heads_self_attn=4\n",
        "        self.hidden_size_lstm=60\n",
        "        self.num_emo_classes=7\n",
        "        \n",
        "        self.conv_1 = nn.Conv1d(self.input_spec_size,self.cnn_filter_size,3,1)\n",
        "        self.max_pooling_1 = nn.MaxPool1d(5)\n",
        "        self.bn = nn.BatchNorm1d(self.cnn_filter_size)\n",
        "        self.conv_2 = nn.Conv1d(self.cnn_filter_size,self.cnn_filter_size,3,1)\n",
        "        self.max_pooling_2 = nn.MaxPool1d(3)\n",
        "        \n",
        "        ###\n",
        "        self.lstm = nn.LSTM(input_size=self.cnn_filter_size, hidden_size=self.hidden_size_lstm,num_layers=self.num_layers_lstm,bidirectional=True,dropout=0.3,batch_first=True)\n",
        "        ## Transformer\n",
        "        self.encoder_layer = nn.TransformerEncoderLayer(d_model=self.hidden_size_lstm*2,dim_feedforward=512, nhead=self.num_heads_self_attn)\n",
        "        self.emotion_layer = nn.Linear(self.hidden_size_lstm*4,self.num_emo_classes)\n",
        "\n",
        "\n",
        "    def forward(self,inputs):\n",
        "        print(np.shape(inputs))\n",
        "        out = self.conv_1(inputs)\n",
        "        out = self.max_pooling_1(out)\n",
        "        out = self.bn(out)\n",
        "        out = self.conv_2(out)\n",
        "        #out = self.max_pooling_2(out)\n",
        "        out = self.bn(out)\n",
        "        out = out.permute(0, 2, 1)\n",
        "        out, (final_hidden_state, final_cell_state) = self.lstm(out)\n",
        "        out = self.encoder_layer(out)\n",
        "        mean = torch.mean(out,1)\n",
        "        std = torch.std(out,1)\n",
        "        stat = torch.cat((mean,std),1)\n",
        "        pred_emo = self.emotion_layer(stat)\n",
        "        return pred_emo"
      ],
      "execution_count": null,
      "outputs": []
    },
    {
      "cell_type": "code",
      "metadata": {
        "colab_type": "code",
        "id": "oHMHaQENKULM",
        "colab": {}
      },
      "source": [
        "num_epochs = 1500\n",
        "model = NeuralNet()\n",
        "lossFunction = nn.CrossEntropyLoss()"
      ],
      "execution_count": null,
      "outputs": []
    },
    {
      "cell_type": "code",
      "metadata": {
        "colab_type": "code",
        "id": "bt5P4MqFKTdN",
        "colab": {}
      },
      "source": [
        "def fit(model, train_loader, test_loader):\n",
        "  total_step = len(train_loader)\n",
        "  for epoch in range(num_epochs):\n",
        "    loss=None\n",
        "    for i, (data,labels) in enumerate(train_loader):\n",
        "      #data = data.permute(1,0,2)\n",
        "      #data = data.unsqueeze(-1)\n",
        "      data = data.permute(0,2,1)\n",
        "      labels = labels.view(-1).long()\n",
        "      #labels= labels.unsqueeze(-1)\n",
        "      out = model(data)\n",
        "      loss = lossFunction(out,labels)\n",
        "      optimizer.zero_grad()\n",
        "      loss.backward()\n",
        "      optimizer.step()\n",
        "\n",
        "\t\t    \n",
        "    print('Epoch [{}/{}], Step [{}/{}], Loss: {:.7f}' .format(epoch+1, num_epochs, i+1, total_step, loss.item()))\n",
        "    eval_test(model,test_loader)"
      ],
      "execution_count": null,
      "outputs": []
    },
    {
      "cell_type": "code",
      "metadata": {
        "colab_type": "code",
        "id": "Xh1eyTSYKSoj",
        "colab": {}
      },
      "source": [
        "def eval_test(model,test_loader):\n",
        "  test_loss = 0\n",
        "  correct = 0\n",
        "  j=0\n",
        "  for i, (data,labels) in enumerate(test_loader):\n",
        "      #data = data.unsqueeze(-1)\n",
        "      data = data.permute(0,2,1)\n",
        "      labels = labels.view(-1).long()\n",
        "      #labels= labels.unsqueeze(-1)\n",
        "      net_out = model(data)\n",
        "      test_loss += lossFunction(net_out, labels).data\n",
        "      pred = net_out.data.max(1)[1]  \n",
        "      #for i in range(len(pred)):\n",
        "        #y_res[j] = pred[i]\n",
        "        #j += 1\n",
        "      correct += pred.eq(labels.data).sum()\n",
        "\n",
        "  test_loss /= len(test_loader.dataset)\n",
        "  print('Test set: Average loss: {:.7f}, Accuracy: {}/{} ({:.2f}%)\\n'.format( test_loss, correct, len(test_loader.dataset), 100. * correct / len(test_loader.dataset)))"
      ],
      "execution_count": null,
      "outputs": []
    },
    {
      "cell_type": "code",
      "metadata": {
        "id": "NAuqkX1BqWv9",
        "colab_type": "code",
        "colab": {}
      },
      "source": [
        "optimizer = torch.optim.AdamW(model.parameters(), lr=5e-4)"
      ],
      "execution_count": null,
      "outputs": []
    },
    {
      "cell_type": "code",
      "metadata": {
        "colab_type": "code",
        "id": "mN80KiCBKQf3",
        "colab": {}
      },
      "source": [
        "fit(model,train_loader, test_loader)"
      ],
      "execution_count": null,
      "outputs": []
    },
    {
      "cell_type": "code",
      "metadata": {
        "id": "Au5D-AXUtsK8",
        "colab_type": "code",
        "colab": {}
      },
      "source": [
        "from sklearn.metrics import confusion_matrix\n",
        "tick_marks = ['ang','dis','fear','hap','neu','sur','sad']\n",
        "import seaborn as sns\n",
        "import matplotlib.pyplot as plt     \n",
        "\n",
        "ax= plt.subplot()\n",
        "sns.heatmap(confusion_matrix(y_test, y_res, normalize='true'), annot=True, ax = ax)\n",
        "ax.set_xlabel('Predicted labels');ax.set_ylabel('True labels')\n",
        "ax.xaxis.set_ticklabels(tick_marks); ax.yaxis.set_ticklabels(tick_marks)\n"
      ],
      "execution_count": null,
      "outputs": []
    },
    {
      "cell_type": "code",
      "metadata": {
        "id": "X-1k5b4bB-cN",
        "colab_type": "code",
        "colab": {}
      },
      "source": [
        "torch.save(model, 'model_mfcc13.pth')\n",
        "!cp model_mfcc13.pth drive/My\\ Drive/model_mfcc.pth"
      ],
      "execution_count": null,
      "outputs": []
    }
  ]
}